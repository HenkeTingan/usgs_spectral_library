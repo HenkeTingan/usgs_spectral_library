{
 "cells": [
  {
   "cell_type": "code",
   "execution_count": null,
   "id": "d60dff55-43dd-4659-b4a5-33c980c16627",
   "metadata": {},
   "outputs": [],
   "source": []
  }
 ],
 "metadata": {
  "kernelspec": {
   "display_name": "",
   "name": ""
  },
  "language_info": {
   "name": ""
  }
 },
 "nbformat": 4,
 "nbformat_minor": 5
}
